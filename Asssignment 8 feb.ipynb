{
 "cells": [
  {
   "cell_type": "markdown",
   "id": "c4d2c33b-febe-4ed5-9c5a-90754cc2612f",
   "metadata": {},
   "source": [
    "Q1. What is Abstraction in OOps? Explain with an example."
   ]
  },
  {
   "cell_type": "markdown",
   "id": "d6241543-0b32-43f7-bbcc-b74eb7217918",
   "metadata": {},
   "source": [
    "Abstraction in oops means hiding the details from the user it means the user cannot see those implemented details. They can only know what the function is doing but how it is doing the user don't know. A class that consist of one or more abstract method is called abstract class. we can implement the abstract class using the abc module using some of the decoraters."
   ]
  },
  {
   "cell_type": "code",
   "execution_count": 10,
   "id": "d4ac1366-34d9-4c98-b4ec-489cda8e2098",
   "metadata": {},
   "outputs": [],
   "source": [
    "# Example of abstraction is shown in the following code\n",
    "import abc\n",
    "class Tv:\n",
    "    @abc.abstractmethod\n",
    "    def remote(self):\n",
    "        pass\n",
    "    @abc.abstractmethod\n",
    "    def channels(self):\n",
    "        pass\n",
    "    @abc.abstractmethod\n",
    "    def live(self):\n",
    "        pass"
   ]
  },
  {
   "cell_type": "code",
   "execution_count": 11,
   "id": "db3a17b4-0868-484e-81a8-c7ffde6ea828",
   "metadata": {},
   "outputs": [],
   "source": [
    "class minitv(Tv):\n",
    "    def remote(self):\n",
    "        return \"Now you can add the functionality also\"\n",
    "    def channels(self):\n",
    "        return \"Channels are available in the bundle\"\n",
    "    def live(self):\n",
    "        return \"Live sections are also available in your list\""
   ]
  },
  {
   "cell_type": "code",
   "execution_count": 12,
   "id": "4bfbe41a-5dc8-414f-b4ee-411ee9db42a1",
   "metadata": {},
   "outputs": [
    {
     "name": "stdout",
     "output_type": "stream",
     "text": [
      "Now you can add the functionality also\n"
     ]
    }
   ],
   "source": [
    "Tv1=minitv()\n",
    "print(Tv1.remote())"
   ]
  },
  {
   "cell_type": "markdown",
   "id": "2c902b62-4738-43cc-8156-728c2feed1ee",
   "metadata": {},
   "source": [
    "Differentiate between Abstraction and Encapsulation. Explain with an example."
   ]
  },
  {
   "cell_type": "code",
   "execution_count": 13,
   "id": "626430b8-5f8a-443d-9e21-ab1d2aecaa49",
   "metadata": {},
   "outputs": [],
   "source": [
    "#code for encapsulation\n",
    "class car:\n",
    "    def __init__(self,year,model,make,speed):\n",
    "        self.__year=year\n",
    "        self.__model=model\n",
    "        self.__make=make\n",
    "        self.__speed=speed\n",
    "    def speed(self):\n",
    "        return self.__speed\n",
    "    "
   ]
  },
  {
   "cell_type": "code",
   "execution_count": 14,
   "id": "77b0faa7-cf44-467c-a79c-3b9daa879a03",
   "metadata": {},
   "outputs": [],
   "source": [
    "swift=car(2000,\"swift\",95,56)"
   ]
  },
  {
   "cell_type": "code",
   "execution_count": 15,
   "id": "b4285d3d-27bd-4f70-b036-f273a88a1af3",
   "metadata": {},
   "outputs": [
    {
     "data": {
      "text/plain": [
       "56"
      ]
     },
     "execution_count": 15,
     "metadata": {},
     "output_type": "execute_result"
    }
   ],
   "source": [
    "swift.speed()"
   ]
  },
  {
   "cell_type": "markdown",
   "id": "e83e55d5-5a2c-4484-b8ac-fd5ef19f1832",
   "metadata": {},
   "source": [
    "Ans- So the basic difference between abstraction and encapsulation is that in abstraction we are hiding the details from each user and in encapsulation we are encapsulating we are just making the variable the private one and we are just using function to access that private variable."
   ]
  },
  {
   "cell_type": "markdown",
   "id": "61447db2-46b2-43b0-ae6f-e61ec12b407b",
   "metadata": {},
   "source": [
    "3. What is abc module in python? Why is it used?"
   ]
  },
  {
   "cell_type": "markdown",
   "id": "fba1368a-5b24-401d-b6c4-5384ffb446c3",
   "metadata": {},
   "source": [
    "Ans- Abc stands for abstract base class it is used for making the variables the abstract one using a decorater called @abc.abstractmethod using this decorater we can make anything as private."
   ]
  },
  {
   "cell_type": "markdown",
   "id": "84de07b6-cf6b-4925-b536-5b5d478331cd",
   "metadata": {},
   "source": [
    "Q4. How can we achieve data abstraction?"
   ]
  },
  {
   "cell_type": "markdown",
   "id": "17576925-9650-4a35-a120-00af9e6d37c9",
   "metadata": {},
   "source": [
    "Ans- We can achieve data abstraction is simply using double underscore while the time of its declaration this will hide the data from the user and we can access those hided variable through some function call or through some class method."
   ]
  },
  {
   "cell_type": "markdown",
   "id": "3e6faf1d-7197-4d25-a9a8-d55fec561c01",
   "metadata": {},
   "source": [
    "Q5. Can we create an instance of an abstract class? Explain your answer."
   ]
  },
  {
   "cell_type": "code",
   "execution_count": 16,
   "id": "410ce0e7-3f0d-44d0-be8a-b603517fd6bb",
   "metadata": {},
   "outputs": [],
   "source": [
    "tv1=Tv()"
   ]
  },
  {
   "cell_type": "markdown",
   "id": "65a7d0dc-68fc-49f7-a75a-5d773e43a2e4",
   "metadata": {},
   "source": [
    "Ans- yes we can create the instance of abstract class. The above tv1 is basically the instance of "
   ]
  }
 ],
 "metadata": {
  "kernelspec": {
   "display_name": "Python 3 (ipykernel)",
   "language": "python",
   "name": "python3"
  },
  "language_info": {
   "codemirror_mode": {
    "name": "ipython",
    "version": 3
   },
   "file_extension": ".py",
   "mimetype": "text/x-python",
   "name": "python",
   "nbconvert_exporter": "python",
   "pygments_lexer": "ipython3",
   "version": "3.10.6"
  }
 },
 "nbformat": 4,
 "nbformat_minor": 5
}
